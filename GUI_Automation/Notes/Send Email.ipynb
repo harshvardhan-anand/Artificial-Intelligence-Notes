{
 "cells": [
  {
   "cell_type": "code",
   "execution_count": 2,
   "metadata": {},
   "outputs": [],
   "source": [
    "import pyautogui as pg\n",
    "import time"
   ]
  },
  {
   "cell_type": "code",
   "execution_count": 3,
   "metadata": {},
   "outputs": [],
   "source": [
    "emails = [\n",
    "'ashwinkumartcse@gmail.com',\n",
    "'adeebn70@gmail.com',\n",
    "'ritesh.survase13@gmail.com',\n",
    "'kandagatlasandeep24@gmail.com',\n",
    "'srithar0501@gmail.com',\n",
    "'bandarusaicharan2@gmail.com',\n",
    "'2010066@nec.edu.in',\n",
    "'python24x7@gmail.com',\n",
    "'muthuprakash2402@gmail.com',\n",
    "'kumarsandeep.k7259@gmail.com',\n",
    "'chethanchandu300980@gmail.com',\n",
    "'pratyushthakur224@gmail.com',\n",
    "'renukamane1998@gmail.com',\n",
    "'rikitadharani7532@gmail.com',\n",
    "'hrudaymouly96@gmail.com',\n",
    "'223005007@sastra.ac.in',\n",
    "'soundvishnu99@gmail.com',\n",
    "'sreekanth99633@gmail.com',\n",
    "'basid1699@gmail.com',\n",
    "'esecdinesh@gmail.com',\n",
    "'vishaljo1792@gmail.com',\n",
    "'gangisettysaineeraj@gmail.com',\n",
    "'mjsuganya0520@gmail.com',\n",
    "'harshdip1804@gmial.com',\n",
    "'anantharamar2002@gmail.com',\n",
    "'roopasree1819@gmail.com',\n",
    "'manishbhosale28@gmail.com',\n",
    "'mvspkvarma@gmail.com',\n",
    "'sandy52135@gmail.com',\n",
    "'nageshwarinag2002@gmail.com',\n",
    "'sivasaikumar9517@gmail.com',\n",
    "'anandbaraik.ab01@gmail.com',\n",
    "'sathishsakthi843@gmail.com',\n",
    "'19eumc121@skcet.ac.in',\n",
    "'akshitharockz5050@gmail.com',\n",
    "'tellme_abhi@yahoo.com',\n",
    "'iisha.singh1910@gmail.com',\n",
    "'shejwalgauravgs@gmail.com',\n",
    "'malleshbabu41@gmail.com',\n",
    "'kalyanipatil2907@gmail.com',\n",
    "'aksairam888@gmail.com',\n",
    "'rajashwin619@gmail.com',\n",
    "'srimuralikrishnakhan@gmail.com',\n",
    "'2k18cse046@kiot.ac.in',\n",
    "'ssquare489@gmail.com'\n",
    "]"
   ]
  },
  {
   "cell_type": "code",
   "execution_count": null,
   "metadata": {},
   "outputs": [],
   "source": [
    "pg.hotkey('ctrl','f')"
   ]
  },
  {
   "cell_type": "code",
   "execution_count": 14,
   "metadata": {},
   "outputs": [],
   "source": [
    "pg.write('Hello World\\n', interval=0.1)"
   ]
  },
  {
   "cell_type": "code",
   "execution_count": 15,
   "metadata": {},
   "outputs": [],
   "source": [
    "pg.press('enter')"
   ]
  },
  {
   "cell_type": "code",
   "execution_count": 58,
   "metadata": {},
   "outputs": [
    {
     "data": {
      "image/png": "[encoded data removed]",
      "text/plain": [
       "<PIL.Image.Image image mode=RGB size=100x10 at 0x2551E59F940>"
      ]
     },
     "execution_count": 58,
     "metadata": {},
     "output_type": "execute_result"
    }
   ],
   "source": [
    "from PIL import Image, ImageDraw,ImageFont\n",
    " \n",
    "img = Image.new('RGB', (100, 10), color = (255,255,255))\n",
    "\n",
    "d = ImageDraw.Draw(img)\n",
    "font = ImageFont.truetype(font='OpenSans-Light.ttf', size=10)\n",
    "d.text((0,0), \"Cell\", fill=(0,0,0))\n",
    "img"
   ]
  },
  {
   "cell_type": "code",
   "execution_count": 59,
   "metadata": {},
   "outputs": [],
   "source": [
    "img.save('Temp/allu.png')"
   ]
  },
  {
   "cell_type": "code",
   "execution_count": 66,
   "metadata": {},
   "outputs": [],
   "source": [
    "pg.locateOnScreen('help.png',minSearchTime=5)"
   ]
  },
  {
   "cell_type": "code",
   "execution_count": null,
   "metadata": {},
   "outputs": [],
   "source": []
  },
  {
   "cell_type": "code",
   "execution_count": null,
   "metadata": {},
   "outputs": [],
   "source": []
  }
 ],
 "metadata": {
  "kernelspec": {
   "display_name": "Python 3",
   "language": "python",
   "name": "python3"
  },
  "language_info": {
   "codemirror_mode": {
    "name": "ipython",
    "version": 3
   },
   "file_extension": ".py",
   "mimetype": "text/x-python",
   "name": "python",
   "nbconvert_exporter": "python",
   "pygments_lexer": "ipython3",
   "version": "3.8.3"
  }
 },
 "nbformat": 4,
 "nbformat_minor": 4
}
